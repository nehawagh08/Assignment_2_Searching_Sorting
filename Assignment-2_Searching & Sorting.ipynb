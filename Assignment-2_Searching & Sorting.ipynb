{
 "cells": [
  {
   "cell_type": "code",
   "execution_count": 3,
   "id": "c488ff0c",
   "metadata": {},
   "outputs": [
    {
     "name": "stdout",
     "output_type": "stream",
     "text": [
      "element found at index  1\n"
     ]
    }
   ],
   "source": [
    "#1.Implement Binary Search\n",
    "def binary_search(l,x):\n",
    "    i=0\n",
    "    h=len(l)-1\n",
    "    while i<=h:\n",
    "        mid=(i+h)//2\n",
    "        if l[mid]==x:\n",
    "            return x\n",
    "        elif l[mid]<x:\n",
    "            i=mid+1\n",
    "            return i\n",
    "        else:\n",
    "            h=mid-1\n",
    "            return h\n",
    "    return -1\n",
    "l=list(map(int,input().split()))\n",
    "x=10\n",
    "print(\"element found at index \",binary_search(l,x))"
   ]
  },
  {
   "cell_type": "code",
   "execution_count": 13,
   "id": "5752ba39",
   "metadata": {},
   "outputs": [
    {
     "name": "stdout",
     "output_type": "stream",
     "text": [
      "34 67 21 12 100\n",
      "12 21 34 67 100 "
     ]
    }
   ],
   "source": [
    "#2. Implement Merge Sort\n",
    "def merge(a, mid, low, high):\n",
    "    b = []  # Temporary list to store merged values\n",
    "    i = low\n",
    "    j = mid + 1\n",
    "    k = low\n",
    "    while i <= mid and j <= high:\n",
    "        if a[i] < a[j]:\n",
    "            b.append(a[i])\n",
    "            i += 1\n",
    "        else:\n",
    "            b.append(a[j])\n",
    "            j += 1\n",
    "        k += 1\n",
    "    while i <= mid:\n",
    "        b.append(a[i])\n",
    "        i += 1\n",
    "        k += 1\n",
    "    while j <= high:\n",
    "        b.append(a[j])\n",
    "        j += 1\n",
    "        k += 1\n",
    "    for i in range(low, high + 1):\n",
    "        a[i] = b[i - low]  # Update the original list with merged values\n",
    "\n",
    "def merge_sort(a, low, high):\n",
    "    if low < high:\n",
    "        mid = (low + high) // 2\n",
    "        merge_sort(a, low, mid)\n",
    "        merge_sort(a, mid + 1, high)\n",
    "        merge(a, mid, low, high)\n",
    "\n",
    "l = list(map(int, input().split()))\n",
    "merge_sort(l, 0, len(l) - 1)\n",
    "for i in l:\n",
    "    print(i,end=\" \")"
   ]
  },
  {
   "cell_type": "code",
   "execution_count": 17,
   "id": "c231e94b",
   "metadata": {},
   "outputs": [
    {
     "name": "stdout",
     "output_type": "stream",
     "text": [
      "34 67 21 12 100\n",
      "12 21 34 67 100 "
     ]
    }
   ],
   "source": [
    "#Implement Quick Sort\n",
    "def quicksort(x):\n",
    "    if len(x)<=1:\n",
    "        return(x)\n",
    "    else:\n",
    "        p = x[0]\n",
    "        l = [i for i in x[1:] if i <= p]\n",
    "        r = [i for i in x[1:] if i > p]\n",
    "    return quicksort(l)+[p]+quicksort(r)\n",
    "a=list(map(int, input().split()))\n",
    "l=quicksort(a)\n",
    "for i in l:\n",
    "    print(i,end=\" \")"
   ]
  },
  {
   "cell_type": "code",
   "execution_count": 25,
   "id": "ef43c4ef",
   "metadata": {},
   "outputs": [
    {
     "name": "stdout",
     "output_type": "stream",
     "text": [
      "34 67 21 12 100\n",
      "12 21 34 67 100 "
     ]
    }
   ],
   "source": [
    "#Implement Insertion Sort\n",
    "def insertion(x):\n",
    "    l = len(x)\n",
    "    if l<=1:\n",
    "        return\n",
    "    for i in range(1,l):\n",
    "        n = x[i]\n",
    "        j = i-1\n",
    "        while j>=0 and n<x[j]:\n",
    "            x[j+1]=x[j]\n",
    "            j = j-1\n",
    "        x[j+1] = n\n",
    "a=list(map(int,input().split()))\n",
    "insertion(a)\n",
    "for i in a:\n",
    "    print(i,end=\" \")"
   ]
  },
  {
   "cell_type": "code",
   "execution_count": 4,
   "id": "a9349704",
   "metadata": {},
   "outputs": [
    {
     "name": "stdout",
     "output_type": "stream",
     "text": [
      "apple cherry date grape banana \n",
      "apple banana cherry date grape "
     ]
    }
   ],
   "source": [
    "#Write a program to sort list of strings (similar to that of dictionary)\n",
    "\n",
    "def custom_sort_key(s):\n",
    "    return [ord(c) for c in s]\n",
    "\n",
    "def sort_list_like_dict(a):\n",
    "    sorted_list = sorted(a, key=custom_sort_key)\n",
    "    return sorted_list\n",
    "#input_list = [\"apple\", \"banana\", \"cherry\", \"date\", \"grape\"]\n",
    "a=list(input().split())\n",
    "sorted_list = sort_list_like_dict(a)\n",
    "for item in sorted_list:\n",
    "    print(item,end=\" \")"
   ]
  },
  {
   "cell_type": "code",
   "execution_count": null,
   "id": "fbbedcea",
   "metadata": {},
   "outputs": [],
   "source": []
  }
 ],
 "metadata": {
  "kernelspec": {
   "display_name": "Python 3 (ipykernel)",
   "language": "python",
   "name": "python3"
  },
  "language_info": {
   "codemirror_mode": {
    "name": "ipython",
    "version": 3
   },
   "file_extension": ".py",
   "mimetype": "text/x-python",
   "name": "python",
   "nbconvert_exporter": "python",
   "pygments_lexer": "ipython3",
   "version": "3.10.9"
  }
 },
 "nbformat": 4,
 "nbformat_minor": 5
}
